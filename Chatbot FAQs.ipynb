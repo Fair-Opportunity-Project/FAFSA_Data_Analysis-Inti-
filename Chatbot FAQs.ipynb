{
 "cells": [
  {
   "cell_type": "code",
   "execution_count": 23,
   "id": "aad77ba5",
   "metadata": {},
   "outputs": [],
   "source": [
    "import pyautogui\n",
    "import time\n",
    "import pandas as pd\n",
    "\n"
   ]
  },
  {
   "cell_type": "code",
   "execution_count": 55,
   "id": "39b269a3",
   "metadata": {},
   "outputs": [],
   "source": [
    "def test1():\n",
    "    questions=pd.read_excel('FAFSA FAQs To Test.xlsx')\n",
    "    time.sleep(1)\n",
    "    pyautogui.click(1358, 22)\n",
    "    time.sleep(1)\n",
    "    pyautogui.click(1378,808)\n",
    "    for i in questions['Question']:\n",
    "        pyautogui.typewrite(i)\n",
    "        pyautogui.press(\"enter\")\n",
    "        time.sleep(40)\n",
    "        pyautogui.click(722, 937)\n",
    "        pyautogui.click(722, 937)\n",
    "        pyautogui.click(722, 937)\n",
    "        pyautogui.hotkey('ctrl', 'c')  # ctrl-c to copy\n",
    "        pyautogui.click(1512, 19)\n",
    "        time.sleep(2)\n",
    "        pyautogui.typewrite('Question: ')\n",
    "        pyautogui.typewrite(i)\n",
    "        time.sleep(1)\n",
    "        pyautogui.press(\"enter\")\n",
    "        pyautogui.hotkey('ctrl', 'v')\n",
    "        time.sleep(1)\n",
    "        pyautogui.click(1358, 22)\n",
    "        time.sleep(1)\n",
    "        pyautogui.click(967, 1053)\n",
    "    pyautogui.typewrite('Done')\n",
    "\n",
    "#test1()"
   ]
  },
  {
   "cell_type": "code",
   "execution_count": 82,
   "id": "036d1078",
   "metadata": {},
   "outputs": [],
   "source": [
    "def test2():\n",
    "    questions=pd.read_excel('FAFSA FAQs To Test (1).xlsx')\n",
    "    time.sleep(1)\n",
    "    pyautogui.click(1358, 22)\n",
    "    time.sleep(3)\n",
    "    pyautogui.click(1428, 892)\n",
    "    for i in questions['Question']:\n",
    "        time.sleep(1)\n",
    "        pyautogui.typewrite(i)\n",
    "        pyautogui.press(\"enter\")\n",
    "        time.sleep(7)\n",
    "        pyautogui.click()\n",
    "        pyautogui.hotkey('ctrl', 'a')\n",
    "        pyautogui.press(\"delete\")\n",
    "        \n",
    "        \n",
    "    pyautogui.typewrite('Done')"
   ]
  },
  {
   "cell_type": "code",
   "execution_count": 83,
   "id": "1403cccd",
   "metadata": {},
   "outputs": [],
   "source": [
    "test2()"
   ]
  },
  {
   "cell_type": "code",
   "execution_count": 60,
   "id": "83b801dc",
   "metadata": {},
   "outputs": [],
   "source": [
    "pyautogui.click(1358, 22)\n",
    "time.sleep(1)What if one of my parents isnt around or doesnt pay child support?\n",
    "\n",
    "pyautogui.click(1428, 892)"
   ]
  },
  {
   "cell_type": "code",
   "execution_count": null,
   "id": "8caad4c0",
   "metadata": {},
   "outputs": [],
   "source": []
  },
  {
   "cell_type": "code",
   "execution_count": 59,
   "id": "efd057b7",
   "metadata": {
    "scrolled": true
   },
   "outputs": [
    {
     "name": "stdout",
     "output_type": "stream",
     "text": [
      "Point(x=1428, y=892)\n"
     ]
    }
   ],
   "source": [
    "print(pyautogui.position())"
   ]
  },
  {
   "cell_type": "code",
   "execution_count": 56,
   "id": "09bd6ed2",
   "metadata": {},
   "outputs": [],
   "source": [
    "test1()"
   ]
  }
 ],
 "metadata": {
  "kernelspec": {
   "display_name": "Python 3 (ipykernel)",
   "language": "python",
   "name": "python3"
  },
  "language_info": {
   "codemirror_mode": {
    "name": "ipython",
    "version": 3
   },
   "file_extension": ".py",
   "mimetype": "text/x-python",
   "name": "python",
   "nbconvert_exporter": "python",
   "pygments_lexer": "ipython3",
   "version": "3.9.7"
  }
 },
 "nbformat": 4,
 "nbformat_minor": 5
}
